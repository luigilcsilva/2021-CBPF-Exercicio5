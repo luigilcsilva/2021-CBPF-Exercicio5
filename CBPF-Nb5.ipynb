{
 "cells": [
  {
   "cell_type": "markdown",
   "id": "wQECxPYxES8X",
   "metadata": {
    "id": "wQECxPYxES8X"
   },
   "source": [
    "# Exploração do Notebook 5"
   ]
  },
  {
   "cell_type": "markdown",
   "id": "4071067e",
   "metadata": {},
   "source": [
    "Importando os pacotes necessários:"
   ]
  },
  {
   "cell_type": "code",
   "execution_count": 1,
   "id": "5055fa73",
   "metadata": {
    "id": "5055fa73"
   },
   "outputs": [],
   "source": [
    "from astropy.io import fits\n",
    "import os\n",
    "import numpy as np\n",
    "from astropy.table import Table, Column, MaskedColumn\n",
    "import matplotlib.pyplot as plt\n",
    "import pandas as pd"
   ]
  },
  {
   "cell_type": "markdown",
   "id": "1218dd61",
   "metadata": {},
   "source": [
    "Abrindo o fits:"
   ]
  },
  {
   "cell_type": "code",
   "execution_count": 2,
   "id": "41b53d4f",
   "metadata": {
    "id": "41b53d4f"
   },
   "outputs": [
    {
     "name": "stdout",
     "output_type": "stream",
     "text": [
      "<TableColumns names=('ra','dec','class','z','zErr','petroMag_u','petroMagErr_u','petroMag_g','petroMagErr_g','petroMag_r','petroMagErr_r','petroMag_i','petroMagErr_i')>\n"
     ]
    }
   ],
   "source": [
    "dados_dir = 'specz_catalog_XIIIecbpf.fits'\n",
    "\n",
    "hdul = fits.open(dados_dir, ignore_missing_end=True) \n",
    "data = hdul[1].data # table extensions can't be the first extension, so there's a dummy image extension at 0\n",
    "cat_table = Table(data)\n",
    "cols=cat_table.columns\n",
    "# print(data)\n",
    "print(cols)"
   ]
  },
  {
   "cell_type": "markdown",
   "id": "f0172c75",
   "metadata": {},
   "source": [
    "Gerando o dataframe e arrumando algumas entradas 'ruins':"
   ]
  },
  {
   "cell_type": "code",
   "execution_count": 3,
   "id": "e9a061df",
   "metadata": {},
   "outputs": [
    {
     "data": {
      "text/html": [
       "<div>\n",
       "<style scoped>\n",
       "    .dataframe tbody tr th:only-of-type {\n",
       "        vertical-align: middle;\n",
       "    }\n",
       "\n",
       "    .dataframe tbody tr th {\n",
       "        vertical-align: top;\n",
       "    }\n",
       "\n",
       "    .dataframe thead th {\n",
       "        text-align: right;\n",
       "    }\n",
       "</style>\n",
       "<table border=\"1\" class=\"dataframe\">\n",
       "  <thead>\n",
       "    <tr style=\"text-align: right;\">\n",
       "      <th></th>\n",
       "      <th>ra</th>\n",
       "      <th>dec</th>\n",
       "      <th>z</th>\n",
       "      <th>zErr</th>\n",
       "      <th>petroMag_u</th>\n",
       "      <th>petroMagErr_u</th>\n",
       "      <th>petroMag_g</th>\n",
       "      <th>petroMagErr_g</th>\n",
       "      <th>petroMag_r</th>\n",
       "      <th>petroMagErr_r</th>\n",
       "      <th>petroMag_i</th>\n",
       "      <th>petroMagErr_i</th>\n",
       "    </tr>\n",
       "  </thead>\n",
       "  <tbody>\n",
       "    <tr>\n",
       "      <th>0</th>\n",
       "      <td>146.622820</td>\n",
       "      <td>-0.951385</td>\n",
       "      <td>0.371128</td>\n",
       "      <td>0.000069</td>\n",
       "      <td>22.40671</td>\n",
       "      <td>0.991268</td>\n",
       "      <td>20.32166</td>\n",
       "      <td>0.091261</td>\n",
       "      <td>18.62304</td>\n",
       "      <td>0.030898</td>\n",
       "      <td>18.05202</td>\n",
       "      <td>0.036655</td>\n",
       "    </tr>\n",
       "    <tr>\n",
       "      <th>1</th>\n",
       "      <td>146.592720</td>\n",
       "      <td>-0.760256</td>\n",
       "      <td>0.064959</td>\n",
       "      <td>0.000009</td>\n",
       "      <td>19.03327</td>\n",
       "      <td>0.089179</td>\n",
       "      <td>17.49610</td>\n",
       "      <td>0.010818</td>\n",
       "      <td>16.91567</td>\n",
       "      <td>0.010075</td>\n",
       "      <td>16.50206</td>\n",
       "      <td>0.010200</td>\n",
       "    </tr>\n",
       "    <tr>\n",
       "      <th>2</th>\n",
       "      <td>146.910800</td>\n",
       "      <td>-0.074559</td>\n",
       "      <td>0.242272</td>\n",
       "      <td>0.000086</td>\n",
       "      <td>20.18482</td>\n",
       "      <td>0.296445</td>\n",
       "      <td>19.53431</td>\n",
       "      <td>0.088922</td>\n",
       "      <td>18.03267</td>\n",
       "      <td>0.033880</td>\n",
       "      <td>17.43746</td>\n",
       "      <td>0.045125</td>\n",
       "    </tr>\n",
       "    <tr>\n",
       "      <th>3</th>\n",
       "      <td>146.448310</td>\n",
       "      <td>-0.713400</td>\n",
       "      <td>0.114698</td>\n",
       "      <td>0.000008</td>\n",
       "      <td>18.94475</td>\n",
       "      <td>0.047213</td>\n",
       "      <td>17.98683</td>\n",
       "      <td>0.009779</td>\n",
       "      <td>17.45100</td>\n",
       "      <td>0.009234</td>\n",
       "      <td>17.02182</td>\n",
       "      <td>0.008779</td>\n",
       "    </tr>\n",
       "    <tr>\n",
       "      <th>4</th>\n",
       "      <td>146.788470</td>\n",
       "      <td>-0.310658</td>\n",
       "      <td>0.056562</td>\n",
       "      <td>0.000015</td>\n",
       "      <td>20.73877</td>\n",
       "      <td>0.480484</td>\n",
       "      <td>18.73327</td>\n",
       "      <td>0.036661</td>\n",
       "      <td>18.14503</td>\n",
       "      <td>0.033823</td>\n",
       "      <td>17.86618</td>\n",
       "      <td>0.039255</td>\n",
       "    </tr>\n",
       "    <tr>\n",
       "      <th>...</th>\n",
       "      <td>...</td>\n",
       "      <td>...</td>\n",
       "      <td>...</td>\n",
       "      <td>...</td>\n",
       "      <td>...</td>\n",
       "      <td>...</td>\n",
       "      <td>...</td>\n",
       "      <td>...</td>\n",
       "      <td>...</td>\n",
       "      <td>...</td>\n",
       "      <td>...</td>\n",
       "      <td>...</td>\n",
       "    </tr>\n",
       "    <tr>\n",
       "      <th>175915</th>\n",
       "      <td>15.770648</td>\n",
       "      <td>-0.373149</td>\n",
       "      <td>0.064814</td>\n",
       "      <td>0.000032</td>\n",
       "      <td>19.45067</td>\n",
       "      <td>0.217810</td>\n",
       "      <td>18.14903</td>\n",
       "      <td>0.035346</td>\n",
       "      <td>17.76802</td>\n",
       "      <td>0.034484</td>\n",
       "      <td>17.40179</td>\n",
       "      <td>0.040466</td>\n",
       "    </tr>\n",
       "    <tr>\n",
       "      <th>175916</th>\n",
       "      <td>16.005106</td>\n",
       "      <td>-0.855950</td>\n",
       "      <td>0.065073</td>\n",
       "      <td>0.000007</td>\n",
       "      <td>18.20492</td>\n",
       "      <td>0.051291</td>\n",
       "      <td>17.21942</td>\n",
       "      <td>0.010603</td>\n",
       "      <td>16.86439</td>\n",
       "      <td>0.008551</td>\n",
       "      <td>16.60081</td>\n",
       "      <td>0.013409</td>\n",
       "    </tr>\n",
       "    <tr>\n",
       "      <th>175917</th>\n",
       "      <td>15.651509</td>\n",
       "      <td>-0.637366</td>\n",
       "      <td>0.191312</td>\n",
       "      <td>0.000035</td>\n",
       "      <td>20.34421</td>\n",
       "      <td>0.248613</td>\n",
       "      <td>18.83951</td>\n",
       "      <td>0.031803</td>\n",
       "      <td>17.65709</td>\n",
       "      <td>0.016823</td>\n",
       "      <td>17.13594</td>\n",
       "      <td>0.015663</td>\n",
       "    </tr>\n",
       "    <tr>\n",
       "      <th>175918</th>\n",
       "      <td>15.866415</td>\n",
       "      <td>-1.159094</td>\n",
       "      <td>0.137276</td>\n",
       "      <td>0.000023</td>\n",
       "      <td>19.12054</td>\n",
       "      <td>0.086672</td>\n",
       "      <td>17.90217</td>\n",
       "      <td>0.016173</td>\n",
       "      <td>17.00707</td>\n",
       "      <td>0.009946</td>\n",
       "      <td>16.62113</td>\n",
       "      <td>0.011164</td>\n",
       "    </tr>\n",
       "    <tr>\n",
       "      <th>175919</th>\n",
       "      <td>15.624099</td>\n",
       "      <td>-0.813441</td>\n",
       "      <td>0.237502</td>\n",
       "      <td>0.000043</td>\n",
       "      <td>20.28428</td>\n",
       "      <td>0.240426</td>\n",
       "      <td>18.76537</td>\n",
       "      <td>0.030472</td>\n",
       "      <td>17.38507</td>\n",
       "      <td>0.020422</td>\n",
       "      <td>16.88052</td>\n",
       "      <td>0.019217</td>\n",
       "    </tr>\n",
       "  </tbody>\n",
       "</table>\n",
       "<p>103627 rows × 12 columns</p>\n",
       "</div>"
      ],
      "text/plain": [
       "                ra       dec         z      zErr  petroMag_u  petroMagErr_u  \\\n",
       "0       146.622820 -0.951385  0.371128  0.000069    22.40671       0.991268   \n",
       "1       146.592720 -0.760256  0.064959  0.000009    19.03327       0.089179   \n",
       "2       146.910800 -0.074559  0.242272  0.000086    20.18482       0.296445   \n",
       "3       146.448310 -0.713400  0.114698  0.000008    18.94475       0.047213   \n",
       "4       146.788470 -0.310658  0.056562  0.000015    20.73877       0.480484   \n",
       "...            ...       ...       ...       ...         ...            ...   \n",
       "175915   15.770648 -0.373149  0.064814  0.000032    19.45067       0.217810   \n",
       "175916   16.005106 -0.855950  0.065073  0.000007    18.20492       0.051291   \n",
       "175917   15.651509 -0.637366  0.191312  0.000035    20.34421       0.248613   \n",
       "175918   15.866415 -1.159094  0.137276  0.000023    19.12054       0.086672   \n",
       "175919   15.624099 -0.813441  0.237502  0.000043    20.28428       0.240426   \n",
       "\n",
       "        petroMag_g  petroMagErr_g  petroMag_r  petroMagErr_r  petroMag_i  \\\n",
       "0         20.32166       0.091261    18.62304       0.030898    18.05202   \n",
       "1         17.49610       0.010818    16.91567       0.010075    16.50206   \n",
       "2         19.53431       0.088922    18.03267       0.033880    17.43746   \n",
       "3         17.98683       0.009779    17.45100       0.009234    17.02182   \n",
       "4         18.73327       0.036661    18.14503       0.033823    17.86618   \n",
       "...            ...            ...         ...            ...         ...   \n",
       "175915    18.14903       0.035346    17.76802       0.034484    17.40179   \n",
       "175916    17.21942       0.010603    16.86439       0.008551    16.60081   \n",
       "175917    18.83951       0.031803    17.65709       0.016823    17.13594   \n",
       "175918    17.90217       0.016173    17.00707       0.009946    16.62113   \n",
       "175919    18.76537       0.030472    17.38507       0.020422    16.88052   \n",
       "\n",
       "        petroMagErr_i  \n",
       "0            0.036655  \n",
       "1            0.010200  \n",
       "2            0.045125  \n",
       "3            0.008779  \n",
       "4            0.039255  \n",
       "...               ...  \n",
       "175915       0.040466  \n",
       "175916       0.013409  \n",
       "175917       0.015663  \n",
       "175918       0.011164  \n",
       "175919       0.019217  \n",
       "\n",
       "[103627 rows x 12 columns]"
      ]
     },
     "execution_count": 3,
     "metadata": {},
     "output_type": "execute_result"
    }
   ],
   "source": [
    "df = cat_table.to_pandas()\n",
    "\n",
    "df = df.drop(df[df['class']!= 'GALAXY'].index) #dropando as estrelas. \n",
    "df = df.drop('class', axis=1) #dropando a coluna class.\n",
    "df = df.replace(['null    ', 'null        ', 'null        '], np.NaN) #substituindo null por NaN.\n",
    "df = df.astype(float) #convertendo as entradas da tabela para float.\n",
    "\n",
    "df[df['petroMag_u'] < 0] = np.NaN #filtrando magnitudes negativas.\n",
    "df[df['petroMag_g'] < 0] = np.NaN #filtrando magnitudes negativas\n",
    "df[df['petroMag_r'] < 0] = np.NaN #filtrando magnitudes negativas.\n",
    "df[df['petroMag_i'] < 0] = np.NaN #filtrando magnitudes negativas.\n",
    "df = df.drop(df[df.z == np.NaN].index) #dropando quaisquer linhas que tenham z == np.NaN.\n",
    "df = df.drop(df[df.petroMag_u == np.NaN].index) #dropando quaisquer linhas que tenham petroMag_x == np.NaN.\n",
    "df = df.drop(df[df.petroMag_g == np.NaN].index) #dropando quaisquer linhas que tenham petroMag_x == np.NaN.\n",
    "df = df.drop(df[df.petroMag_r == np.NaN].index) #dropando quaisquer linhas que tenham petroMag_x == np.NaN.\n",
    "df = df.drop(df[df.petroMag_i == np.NaN].index) #dropando quaisquer linhas que tenham petroMag_x == np.NaN.\n",
    "\n",
    "\n",
    "df"
   ]
  },
  {
   "cell_type": "markdown",
   "id": "02b08ae3",
   "metadata": {},
   "source": [
    "Salvando em um arquivo fits e abrindo o novo arquivo:"
   ]
  },
  {
   "cell_type": "code",
   "execution_count": 4,
   "id": "bfa68b3b",
   "metadata": {},
   "outputs": [
    {
     "name": "stdout",
     "output_type": "stream",
     "text": [
      "    ra        dec          z      ... petroMagErr_r petroMag_i petroMagErr_i\n",
      "--------- ------------ ---------- ... ------------- ---------- -------------\n",
      "146.62282  -0.95138526  0.3711277 ...    0.03089815   18.05202    0.03665525\n",
      "146.59272  -0.76025604 0.06495924 ...    0.01007535   16.50206    0.01019981\n",
      " 146.9108 -0.074559356  0.2422717 ...    0.03387981   17.43746    0.04512536\n",
      "146.44831  -0.71339967  0.1146981 ...   0.009233744   17.02182   0.008778921\n",
      "146.78847  -0.31065752 0.05656198 ...    0.03382286   17.86618    0.03925543\n",
      "146.09369  -0.79308773 0.06758517 ...   0.005180169   15.43335   0.004949708\n",
      "146.09369  -0.79308773 0.06762055 ...   0.005180169   15.43335   0.004949708\n",
      "      ...          ...        ... ...           ...        ...           ...\n",
      "16.063257    -1.114314 0.01798435 ...   0.004130061   14.40654    0.00436022\n",
      "15.844699  -0.67906213  0.2059941 ...    0.01499067   18.41356    0.01536485\n",
      "15.770648  -0.37314851  0.0648139 ...    0.03448401   17.40179    0.04046607\n",
      "16.005106     -0.85595 0.06507264 ...   0.008551153   16.60081    0.01340905\n",
      "15.651509  -0.63736558  0.1913125 ...    0.01682307   17.13594    0.01566291\n",
      "15.866415   -1.1590945  0.1372756 ...   0.009945687   16.62113    0.01116389\n",
      "15.624099  -0.81344055  0.2375021 ...    0.02042167   16.88052    0.01921708\n",
      "Length = 103627 rows\n",
      "<TableColumns names=('ra','dec','z','zErr','petroMag_u','petroMagErr_u','petroMag_g','petroMagErr_g','petroMag_r','petroMagErr_r','petroMag_i','petroMagErr_i')>\n"
     ]
    }
   ],
   "source": [
    "new_table1 = Table.from_pandas(df)\n",
    "tabela_exercicio_1 = os.path.join(\"arquivosgerados\",'NewLegacyCatalog.fits')\n",
    "hdu = fits.BinTableHDU(data=new_table1)\n",
    "hdu.writeto(tabela_exercicio_1, overwrite=True)\n",
    "\n",
    "hdul = fits.open(\"arquivosgerados/NewLegacyCatalog.fits\", ignore_missing_end=True)\n",
    "\n",
    "data = hdul[1].data # table extensions can't be the first extension, so there's a dummy image extension at 1\n",
    "cat_table = Table(data)\n",
    "cols=cat_table.columns\n",
    "print(cat_table)\n",
    "print(cols)"
   ]
  },
  {
   "cell_type": "markdown",
   "id": "e1f53e8f",
   "metadata": {},
   "source": [
    "Plotando as magnitudes:"
   ]
  },
  {
   "cell_type": "code",
   "execution_count": 5,
   "id": "baa25851",
   "metadata": {},
   "outputs": [
    {
     "data": {
      "text/plain": [
       "<function matplotlib.pyplot.show(close=None, block=None)>"
      ]
     },
     "execution_count": 5,
     "metadata": {},
     "output_type": "execute_result"
    },
    {
     "data": {
      "image/png": "[encoded data removed]",
      "text/plain": [
       "<Figure size 1120x1120 with 5 Axes>"
      ]
     },
     "metadata": {},
     "output_type": "display_data"
    }
   ],
   "source": [
    "### MAG PLOTS\n",
    "\n",
    "mags = ['petroMag_'+band for band in 'ugri']\n",
    "\n",
    "key_list = mags \n",
    "color_list = ['black', 'green', 'red', 'yellow']\n",
    "hor = 2\n",
    "ver = 3\n",
    "\n",
    "plt.style.use('classic')\n",
    "\n",
    "fig = plt.figure(figsize=(14, 14), constrained_layout=True)\n",
    "gs = fig.add_gridspec(ver, hor, left=0.05, right=0.5, wspace=0.05)\n",
    "\n",
    "i=0\n",
    "binsize=0.2\n",
    "def binarange(arr):\n",
    "    return np.arange(min(arr), max(arr)+binsize, binsize)\n",
    "\n",
    "\n",
    "for v in range(ver):\n",
    "    for h in range(hor):\n",
    "        if v==2:\n",
    "                     \n",
    "            ax = fig.add_subplot(gs[v, 0])\n",
    "            for c, key in enumerate(key_list):\n",
    "                bins = binarange(data.field(key))\n",
    "                ax.hist(data.field(key), bins=bins, color=color_list[c], alpha=1, label=key, histtype='step')\n",
    "            ax.set_title(\"All Mags\")\n",
    "            plt.legend()\n",
    "            \n",
    "            break\n",
    "            i+=1\n",
    "        \n",
    "        \n",
    "        mags = ['petroMag_'+band for band in 'ugri']\n",
    "        \n",
    "        ax = fig.add_subplot(gs[v, h])\n",
    "        bins = binarange(data.field(key_list[i]))\n",
    "        ax.hist(data.field(key_list[i]), bins=bins, color=color_list[i], alpha=0.7)\n",
    "        ax.set_title(key_list[i])\n",
    "        i+=1\n",
    "\n",
    "plt.show"
   ]
  },
  {
   "cell_type": "code",
   "execution_count": 6,
   "id": "7e764176",
   "metadata": {
    "id": "7e764176",
    "outputId": "ff1a023d-0223-439e-9c4f-ec4798887bfc"
   },
   "outputs": [
    {
     "data": {
      "text/plain": [
       "<matplotlib.legend.Legend at 0x7f5103de2a60>"
      ]
     },
     "execution_count": 6,
     "metadata": {},
     "output_type": "execute_result"
    },
    {
     "data": {
      "image/png": "[encoded data removed]",
      "text/plain": [
       "<Figure size 640x640 with 1 Axes>"
      ]
     },
     "metadata": {},
     "output_type": "display_data"
    }
   ],
   "source": [
    "#ZSPEC PLOTS\n",
    "\n",
    "fig = plt.figure(figsize=(8,8))\n",
    "ax = fig.add_subplot()\n",
    "ax.hist(np.array(data.field('z')), bins=70, color='blue', label=f'{len(data)} objs')\n",
    "ax.set_xlabel('z$_{spec}$', fontsize=16)\n",
    "ax.set_ylabel('Count')\n",
    "plt.legend()"
   ]
  },
  {
   "cell_type": "code",
   "execution_count": 7,
   "id": "486de959",
   "metadata": {
    "id": "486de959",
    "outputId": "2d17ac4e-834d-49a8-ab37-7c8ed8672ab4"
   },
   "outputs": [
    {
     "name": "stdout",
     "output_type": "stream",
     "text": [
      "Train Percent = 70.13%\n",
      "Test Percent = 19.94%\n",
      "Val Percent = 9.93%\n",
      "[(239.96698,  9.4248942, 0.1366006 , 2.286765e-05, 19.2582 , 0.09507193, 18.40424, 0.02028173, 17.7064 , 0.01618556, 17.39722, 0.01963972)\n",
      " (132.43307, 12.298714 , 0.05055315, 1.398644e-05, 20.34308, 0.350875  , 18.09925, 0.01583923, 17.671  , 0.02084511, 17.75408, 0.09138411)\n",
      " (179.37387, 61.61603  , 0.06413542, 8.810581e-06, 18.37456, 0.04583798, 17.29594, 0.0075871 , 16.8173 , 0.00823788, 16.4948 , 0.01054527)\n",
      " ...\n",
      " (223.17777, 22.252389 , 0.3326881 , 7.729011e-05, 20.97871, 0.8278182 , 20.5789 , 0.1542476 , 19.06299, 0.09664413, 18.37456, 0.07566027)\n",
      " (337.61987, 21.462954 , 0.3736901 , 7.758995e-05, 21.43932, 0.3494269 , 20.9861 , 0.1100968 , 19.3139 , 0.04810604, 18.60558, 0.0461115 )\n",
      " (157.70585, 29.498816 , 0.5205936 , 9.739409e-05, 26.48391, 1.413567  , 21.28289, 0.1700425 , 20.18533, 0.09028883, 19.12412, 0.06661087)]\n"
     ]
    }
   ],
   "source": [
    "#preprocessing\n",
    "\n",
    "from sklearn.preprocessing import MinMaxScaler\n",
    "np.random.seed(42)\n",
    "\n",
    "train_percentual = 7/10\n",
    "train_cut = np.random.uniform(0, 1, len(data)) < train_percentual\n",
    "train_data = data[train_cut]\n",
    "\n",
    "test_val_data = data[~train_cut]\n",
    "\n",
    "test_percentual = 2/3\n",
    "test_cut = np.random.uniform(0, 1, len(test_val_data)) < test_percentual\n",
    "\n",
    "test_data = test_val_data[test_cut]\n",
    "val_data = test_val_data[~test_cut]\n",
    "\n",
    "print(f'Train Percent = {len(train_data)/len(data)*100:.2f}%')\n",
    "print(f'Test Percent = {len(test_data)/len(data)*100:.2f}%')\n",
    "print(f'Val Percent = {len(val_data)/len(data)*100:.2f}%')\n",
    "\n",
    "#embaralhando os dados\n",
    "\n",
    "train_shuffler = np.random.choice(len(train_data), len(train_data), replace=False)\n",
    "train_data = train_data[train_shuffler]\n",
    "\n",
    "test_shuffler = np.random.choice(len(test_data), len(test_data), replace=False)\n",
    "test_data = test_data[test_shuffler]\n",
    "\n",
    "val_shuffler = np.random.choice(len(val_data), len(val_data), replace=False)\n",
    "val_data = val_data[val_shuffler]\n",
    "\n",
    "\n",
    "x_train = np.array([train_data.field(mag) for mag in mags]).T\n",
    "y_train = np.array(train_data.field('z'))\n",
    "\n",
    "x_test = np.array([test_data.field(mag) for mag in mags]).T\n",
    "y_test = np.array(test_data.field('z'))\n",
    "\n",
    "x_val = np.array([val_data.field(mag) for mag in mags]).T\n",
    "y_val = np.array(val_data.field('z'))\n",
    "\n",
    "scaler = MinMaxScaler()\n",
    "x_train = scaler.fit_transform(x_train)\n",
    "x_test = scaler.transform(x_test)\n",
    "x_val = scaler.transform(x_val)\n",
    "\n",
    "np.max(x_test[:, 1])\n",
    "print(train_data)"
   ]
  },
  {
   "cell_type": "code",
   "execution_count": 8,
   "id": "38a4c454",
   "metadata": {
    "id": "38a4c454"
   },
   "outputs": [
    {
     "name": "stderr",
     "output_type": "stream",
     "text": [
      "2021-11-09 13:31:59.158655: I tensorflow/stream_executor/cuda/cuda_gpu_executor.cc:939] successful NUMA node read from SysFS had negative value (-1), but there must be at least one NUMA node, so returning NUMA node zero\n",
      "2021-11-09 13:31:59.168013: I tensorflow/stream_executor/cuda/cuda_gpu_executor.cc:939] successful NUMA node read from SysFS had negative value (-1), but there must be at least one NUMA node, so returning NUMA node zero\n",
      "2021-11-09 13:31:59.168578: I tensorflow/stream_executor/cuda/cuda_gpu_executor.cc:939] successful NUMA node read from SysFS had negative value (-1), but there must be at least one NUMA node, so returning NUMA node zero\n",
      "2021-11-09 13:31:59.169578: I tensorflow/core/platform/cpu_feature_guard.cc:151] This TensorFlow binary is optimized with oneAPI Deep Neural Network Library (oneDNN) to use the following CPU instructions in performance-critical operations:  AVX2 FMA\n",
      "To enable them in other operations, rebuild TensorFlow with the appropriate compiler flags.\n",
      "2021-11-09 13:31:59.169991: I tensorflow/stream_executor/cuda/cuda_gpu_executor.cc:939] successful NUMA node read from SysFS had negative value (-1), but there must be at least one NUMA node, so returning NUMA node zero\n",
      "2021-11-09 13:31:59.170413: I tensorflow/stream_executor/cuda/cuda_gpu_executor.cc:939] successful NUMA node read from SysFS had negative value (-1), but there must be at least one NUMA node, so returning NUMA node zero\n",
      "2021-11-09 13:31:59.170731: I tensorflow/stream_executor/cuda/cuda_gpu_executor.cc:939] successful NUMA node read from SysFS had negative value (-1), but there must be at least one NUMA node, so returning NUMA node zero\n",
      "2021-11-09 13:31:59.959458: I tensorflow/stream_executor/cuda/cuda_gpu_executor.cc:939] successful NUMA node read from SysFS had negative value (-1), but there must be at least one NUMA node, so returning NUMA node zero\n",
      "2021-11-09 13:31:59.960026: I tensorflow/stream_executor/cuda/cuda_gpu_executor.cc:939] successful NUMA node read from SysFS had negative value (-1), but there must be at least one NUMA node, so returning NUMA node zero\n",
      "2021-11-09 13:31:59.960336: I tensorflow/stream_executor/cuda/cuda_gpu_executor.cc:939] successful NUMA node read from SysFS had negative value (-1), but there must be at least one NUMA node, so returning NUMA node zero\n",
      "2021-11-09 13:31:59.960619: I tensorflow/core/common_runtime/gpu/gpu_device.cc:1525] Created device /job:localhost/replica:0/task:0/device:GPU:0 with 1386 MB memory:  -> device: 0, name: NVIDIA GeForce 940MX, pci bus id: 0000:01:00.0, compute capability: 5.0\n"
     ]
    },
    {
     "name": "stdout",
     "output_type": "stream",
     "text": [
      "Epoch 1/2\n",
      "568/568 [==============================] - 4s 4ms/step - loss: nan - accuracy: 0.0000e+00 - val_loss: nan - val_accuracy: 0.0000e+00\n",
      "Epoch 2/2\n",
      "568/568 [==============================] - 2s 4ms/step - loss: nan - accuracy: 0.0000e+00 - val_loss: nan - val_accuracy: 0.0000e+00\n"
     ]
    }
   ],
   "source": [
    "import tensorflow.keras as keras\n",
    "os.environ['CUDA_DEVICE_ORDER'] = 'PCI_BUS_ID'\n",
    "os.environ['CUDA_VISIBLE_DEVICES'] = \"0\"\n",
    "\n",
    "\n",
    "def build_model(input_shape, nb_classes=1):\n",
    "    input_layer = keras.layers.Input(input_shape)\n",
    "\n",
    "    layer_1 = keras.layers.Dense(512, activation='relu')(input_layer)\n",
    "    layer_1= keras.layers.Dropout(rate=0.2)(layer_1)\n",
    "\n",
    "    layer_2 = keras.layers.Dense(256, activation='relu')(layer_1)\n",
    "    layer_2 = keras.layers.Dropout(rate=0.2)(layer_2)\n",
    "\n",
    "    layer_3 = keras.layers.Dense(128, activation='relu')(layer_2)\n",
    "    layer_3 = keras.layers.Dropout(rate=0.2)(layer_3)\n",
    "\n",
    "    output_layer = keras.layers.Dense(units=nb_classes,activation='linear')(layer_2)\n",
    "\n",
    "\n",
    "    model = keras.models.Model(inputs=input_layer, outputs=output_layer)\n",
    "    return model\n",
    "\n",
    "regressor = build_model(x_train.shape[1:])\n",
    "regressor.compile(loss='mse', optimizer=keras.optimizers.Nadam(), metrics=['accuracy'])\n",
    "\n",
    "\n",
    "batch_size = 128\n",
    "epochs = 2\n",
    "\n",
    "history = regressor.fit(x_train, y_train, batch_size=batch_size, epochs=epochs, \n",
    "                     verbose=1, validation_data=(x_val,y_val))\n",
    "\n",
    "preds = regressor.predict(x_test)"
   ]
  },
  {
   "cell_type": "code",
   "execution_count": 9,
   "id": "Zv3wFIvmntlj",
   "metadata": {
    "id": "Zv3wFIvmntlj",
    "scrolled": true
   },
   "outputs": [
    {
     "data": {
      "image/png": "[encoded data removed]",
      "text/plain": [
       "<Figure size 640x480 with 1 Axes>"
      ]
     },
     "metadata": {},
     "output_type": "display_data"
    }
   ],
   "source": [
    "# TRAINING PLOTS\n",
    "\n",
    "loss = history.history['loss']\n",
    "val_loss = history.history['val_loss']\n",
    "\n",
    "plt.plot(loss, label='train')\n",
    "plt.plot(val_loss, label='val')\n",
    "plt.xlabel('epochs')\n",
    "plt.ylabel('loss (mse)')\n",
    "plt.legend()\n",
    "plt.tight_layout()"
   ]
  },
  {
   "cell_type": "code",
   "execution_count": 10,
   "id": "4dd03c73",
   "metadata": {
    "id": "4dd03c73"
   },
   "outputs": [],
   "source": [
    "### CALCULO DAS MÉTRICAS E PLOTS\n",
    "def get_zstatistic(z,zspec):\n",
    "    \n",
    "    deltaz=z-zspec\n",
    "    mean_bias=np.mean(deltaz)\n",
    "\n",
    "\n",
    "    p16=np.percentile(deltaz,15.85)\n",
    "    p84=np.percentile(deltaz,84.05)\n",
    "    sigma68=0.5*(p84-p16)\n",
    "    median_bias=np.percentile(deltaz,50)\n",
    "    return mean_bias,median_bias,sigma68\n",
    "    \n",
    "\n",
    "def redshift_plot(z, zspec):\n",
    "    \n",
    "    plt.style.use('default')\n",
    "    \n",
    "    fig = plt.figure(figsize=(10, 8))\n",
    "    \n",
    "    mean_bias,median_bias,sigma68=get_zstatistic(z, zspec)\n",
    "\n",
    "\n",
    "    text=\"\\n $\\sigma_{68}$: $\"+str(round(sigma68,3))+\"$\"\n",
    "    text+=\"\\n Mean Bias: $\"+str(round(mean_bias,3))+\"$\"\n",
    "    text+=\"\\n Median Bias: $\"+str(round(median_bias,3))+\"$\"\n",
    "    ax = fig.add_subplot()\n",
    "    \n",
    "    #dispersão entre photo-z e spec-z\n",
    "    ax.scatter(np.array(zspec), np.array(z),\n",
    "                       alpha = 0.5,\n",
    "                       s=8,marker='o')\n",
    "    \n",
    "    #reta x = y\n",
    "    reta = [0, max([max(zspec), max(z)])]\n",
    "    ax.plot(reta, reta,\n",
    "              ls='dashed', color='black', lw=0.5)\n",
    "    \n",
    "    #limites e legendas\n",
    "    ax.set_ylim(min(z),max(z))\n",
    "    ax.set_xlim(0,max(zspec))\n",
    "    ax.set_ylabel(\"$z_{phot}$\", fontsize=15)\n",
    "    ax.set_xlabel(\"$z_{spec}$\", fontsize=15)\n",
    "    ax.text(0.7*max(zspec), .2*max(z), text, va=\"top\", fontsize=12)\n",
    "    \n",
    "    plt.show()\n"
   ]
  },
  {
   "cell_type": "code",
   "execution_count": 11,
   "id": "63e33736",
   "metadata": {},
   "outputs": [],
   "source": [
    "#preds"
   ]
  },
  {
   "cell_type": "code",
   "execution_count": 12,
   "id": "1937ae64",
   "metadata": {
    "id": "1937ae64",
    "outputId": "9878823f-7e71-4b17-a7ea-73a130f5bebb"
   },
   "outputs": [],
   "source": [
    "#redshift_plot(preds, y_test)\n"
   ]
  }
 ],
 "metadata": {
  "colab": {
   "collapsed_sections": [],
   "name": "Big Data-Dense_Network.ipynb",
   "provenance": []
  },
  "kernelspec": {
   "display_name": "Python 3 (ipykernel)",
   "language": "python",
   "name": "python3"
  },
  "language_info": {
   "codemirror_mode": {
    "name": "ipython",
    "version": 3
   },
   "file_extension": ".py",
   "mimetype": "text/x-python",
   "name": "python",
   "nbconvert_exporter": "python",
   "pygments_lexer": "ipython3",
   "version": "3.8.10"
  }
 },
 "nbformat": 4,
 "nbformat_minor": 5
}
